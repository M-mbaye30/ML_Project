{
 "cells": [
  {
   "cell_type": "code",
   "execution_count": 2,
   "metadata": {},
   "outputs": [],
   "source": [
    "#on importe les librairies\n",
    "import numpy as np\n",
    "import matplotlib.pyplot as plt\n",
    "import pandas as pd\n",
    "import spacy\n",
    "import gensim"
   ]
  },
  {
   "cell_type": "code",
   "execution_count": 4,
   "metadata": {},
   "outputs": [
    {
     "data": {
      "text/plain": [
       "0    As much as I wanted to love the box it came br...\n",
       "1    The app opens and immediately crashes. Can't w...\n",
       "2    I needed this for a project. The scroll came w...\n",
       "3    Terrible fit in bust area; not flattering at a...\n",
       "4    The filter works GREAT.... once I fixed it!!!!...\n",
       "Name: texts, dtype: object"
      ]
     },
     "execution_count": 4,
     "metadata": {},
     "output_type": "execute_result"
    }
   ],
   "source": [
    "#on charge notre dataset\n",
    "df = pd.read_csv(\"data/reviews_en.csv\")\n",
    "\n",
    "#on crée un corpus avec les textes du dataset reviews_en.csv\n",
    "corpus = df.texts\n",
    "\n",
    "#on affiche les premières lignes du corpus\n",
    "corpus.head()"
   ]
  },
  {
   "cell_type": "code",
   "execution_count": 5,
   "metadata": {},
   "outputs": [],
   "source": [
    "#on charge le modèle de langue anglaise de spacy en mode moyen (md) pour tokeniser le corpus\n",
    "nlp = spacy.load(\"en_core_web_md\")"
   ]
  },
  {
   "cell_type": "code",
   "execution_count": 3,
   "metadata": {},
   "outputs": [
    {
     "data": {
      "text/plain": [
       "6288                         died in less than 90 days !!\n",
       "9233    Dislike :( It leaks and I do not know where. I...\n",
       "3217    I have tried to like this oil, but to me it ha...\n",
       "8541    product has a freshness date of February 21, 2...\n",
       "3274    The blower is ok, but the weed eater is terrib...\n",
       "2276    Everyone was right. Garbage. Only Way of the d...\n",
       "1107    After eagerly anticipating to watch this child...\n",
       "9286    i ordered several, they don't work, this machi...\n",
       "6087                           Worked once, sent it back.\n",
       "5308    I ordered these Aug. 26. Today is Oct. 10 and ...\n",
       "Name: texts, dtype: object"
      ]
     },
     "execution_count": 3,
     "metadata": {},
     "output_type": "execute_result"
    }
   ],
   "source": [
    "#on tire 10 échantillons aléatoires du DataFrame\n",
    "#cela nous permet d'explorer nos données rapidement.\n",
    "corpus.sample(n=10)"
   ]
  },
  {
   "cell_type": "code",
   "execution_count": 6,
   "metadata": {},
   "outputs": [
    {
     "data": {
      "text/plain": [
       "10000"
      ]
     },
     "execution_count": 6,
     "metadata": {},
     "output_type": "execute_result"
    }
   ],
   "source": [
    "# la méthode sample() permet de retourner un nombre n aléatoire d'éléments\n",
    "# la méthode pipe() de spaCy est adaptée au traitement de textes en séries. Attention, elle retourne un générateur ! \n",
    "docs = nlp.pipe(corpus.sample(n=10000))\n",
    "train = [] # creer nouvelle liste qui servir de corpus tokenizé\n",
    "for doc in docs:\n",
    "    filtered_doc = [] # doc tokenizé\n",
    "    for token in doc:\n",
    "        if token.is_stop:\n",
    "            pass\n",
    "        elif token.is_punct:\n",
    "            pass\n",
    "        else:\n",
    "            filtered_doc.append(token.lemma_) # si token est bon, on l'ajoute a la liste\n",
    "            \n",
    "    train.append(filtered_doc) # on ajoute le doc tokenizé au nouveau corpus\n",
    "len(train)"
   ]
  },
  {
   "cell_type": "code",
   "execution_count": 7,
   "metadata": {},
   "outputs": [],
   "source": [
    "from gensim.models import Word2Vec # on importe la classe Word2Vec\n",
    "\n",
    "vector_size = 100  # taille du vecteur\n",
    "\n",
    "window = 5  # fenêtre de mots à considérer\n",
    "\n",
    "min_count = 1  # fréquence minimale des mots\n",
    "\n",
    "\n",
    "# instancier le modèle déclence son entraînement\n",
    "model = Word2Vec(sentences = train, vector_size=vector_size, window=window, min_count=min_count)"
   ]
  },
  {
   "cell_type": "code",
   "execution_count": 8,
   "metadata": {},
   "outputs": [
    {
     "data": {
      "text/plain": [
       "array([-0.06217378,  0.20061393,  0.02878015,  0.00392949,  0.07482631,\n",
       "       -0.29081047,  0.15929127,  0.34415758, -0.10826652, -0.05546524,\n",
       "       -0.05911543, -0.24992009, -0.0889046 ,  0.11245325,  0.03498001,\n",
       "       -0.07603101,  0.03398263, -0.16704659, -0.02881601, -0.3932526 ,\n",
       "        0.11323075,  0.11367   ,  0.10530341, -0.07018738, -0.12107608,\n",
       "       -0.06224459, -0.0474672 , -0.1976712 , -0.17099634,  0.04194965,\n",
       "        0.1862391 ,  0.10159712,  0.04330587, -0.13121201, -0.11789812,\n",
       "        0.21253367,  0.02109125, -0.19144124, -0.1298446 , -0.3425596 ,\n",
       "        0.10416064, -0.2092237 , -0.03027888,  0.04265218,  0.16506344,\n",
       "        0.00319094, -0.13651115, -0.06227637,  0.05248986,  0.07461921,\n",
       "        0.04895439, -0.12628824, -0.02949686,  0.02443668, -0.16122894,\n",
       "        0.14941253,  0.0405831 ,  0.00952885, -0.17088635,  0.0911621 ,\n",
       "        0.13073787,  0.0746975 , -0.04653784, -0.04604212, -0.24447666,\n",
       "        0.15613097,  0.08882753,  0.16120265, -0.24366367,  0.18849295,\n",
       "       -0.08457725,  0.09094745,  0.16414462, -0.04134141,  0.2177804 ,\n",
       "        0.08970434, -0.03073351, -0.06403949, -0.22539975,  0.09297057,\n",
       "       -0.05242939, -0.07834449, -0.18257108,  0.2595356 , -0.01973748,\n",
       "        0.00045862,  0.10657989,  0.18453726,  0.20939831, -0.02527594,\n",
       "        0.28250006,  0.08373633,  0.00511981,  0.00470539,  0.30924186,\n",
       "        0.20357944,  0.19491582, -0.19503121,  0.00410131, -0.02774325],\n",
       "      dtype=float32)"
      ]
     },
     "execution_count": 8,
     "metadata": {},
     "output_type": "execute_result"
    }
   ],
   "source": [
    "# l'attribut wv d'un modèle est un dictionnaire, où les clés sont des mots et les valeurs des vecteurs\n",
    "model.wv[\"sent\"]"
   ]
  },
  {
   "cell_type": "markdown",
   "metadata": {},
   "source": [
    "***Calculer la similarité entre deux mots***"
   ]
  },
  {
   "cell_type": "code",
   "execution_count": 9,
   "metadata": {},
   "outputs": [
    {
     "data": {
      "text/plain": [
       "0.9554968"
      ]
     },
     "execution_count": 9,
     "metadata": {},
     "output_type": "execute_result"
    }
   ],
   "source": [
    "model.wv.similarity(\"find\", \"receive\")"
   ]
  },
  {
   "cell_type": "code",
   "execution_count": 11,
   "metadata": {},
   "outputs": [
    {
     "data": {
      "text/plain": [
       "0.96726656"
      ]
     },
     "execution_count": 11,
     "metadata": {},
     "output_type": "execute_result"
    }
   ],
   "source": [
    "model.wv.similarity(\"product\", \"bought\")"
   ]
  },
  {
   "cell_type": "markdown",
   "metadata": {},
   "source": [
    "\n",
    "***Identifer les mots les plus similaires à un mot donné***\n"
   ]
  },
  {
   "cell_type": "code",
   "execution_count": 12,
   "metadata": {},
   "outputs": [
    {
     "data": {
      "text/plain": [
       "'product'"
      ]
     },
     "execution_count": 12,
     "metadata": {},
     "output_type": "execute_result"
    }
   ],
   "source": [
    "# identifie le mot le plus similaires de la liste par rapport\n",
    "# a un autre mot\n",
    "word_list = [\"product\", \"find\", \"bought\"]\n",
    "model.wv.most_similar_to_given(\"receive\", word_list)"
   ]
  },
  {
   "cell_type": "markdown",
   "metadata": {},
   "source": [
    "***Calculer la similarité entre deux vecteurs***"
   ]
  },
  {
   "cell_type": "code",
   "execution_count": 13,
   "metadata": {},
   "outputs": [
    {
     "name": "stdout",
     "output_type": "stream",
     "text": [
      "sim_company_and_work: [0.8557043]\n",
      "sim_company_money: [0.8201554]\n",
      "sim_money_work: [0.7864837]\n",
      "sim_work_money_comppany: [0.78648365 0.85570437]\n"
     ]
    }
   ],
   "source": [
    "# on obtient/récuperer des vecteurs\n",
    "company = model.wv[\"company\"]\n",
    "work = model.wv[\"work\"]\n",
    "money = model.wv[\"money\"]\n",
    "\n",
    "print(\"sim_company_and_work:\", model.wv.cosine_similarities(company, [work]))\n",
    "print(\"sim_company_money:\", model.wv.cosine_similarities(company, [money]))\n",
    "print(\"sim_money_work:\", model.wv.cosine_similarities(money, [work]))\n",
    "\n",
    "print(\"sim_work_money_comppany:\", model.wv.cosine_similarities(work, [money, company]))"
   ]
  },
  {
   "cell_type": "markdown",
   "metadata": {},
   "source": [
    "*** Représenter les 50 premiers mots des Word Embeddings sous forme de graphique***"
   ]
  },
  {
   "cell_type": "code",
   "execution_count": 15,
   "metadata": {},
   "outputs": [],
   "source": [
    "from gensim.models import word2vec, keyedvectors\n",
    "from sklearn.decomposition import PCA"
   ]
  },
  {
   "cell_type": "code",
   "execution_count": 16,
   "metadata": {},
   "outputs": [
    {
     "data": {
      "text/plain": [
       "array([[ 0.09345498,  1.0593525 , -0.08051329, ..., -0.54308313,\n",
       "         0.01881619, -0.40317416],\n",
       "       [-0.0916457 ,  0.6490075 , -0.12839483, ..., -0.45735267,\n",
       "         0.13931313, -0.12905166],\n",
       "       [ 0.03091308,  0.8096562 , -0.09742675, ..., -0.43642625,\n",
       "         0.23955762, -0.20090184],\n",
       "       ...,\n",
       "       [ 0.001734  ,  0.7459815 , -0.08984403, ..., -0.4206705 ,\n",
       "         0.22730616, -0.20095846],\n",
       "       [-0.0165734 ,  0.9246674 , -0.09221426, ..., -0.43227586,\n",
       "         0.1208207 , -0.2947175 ],\n",
       "       [-0.07619262,  0.72264874, -0.16783756, ..., -0.49541888,\n",
       "         0.04082751, -0.23106101]], dtype=float32)"
      ]
     },
     "execution_count": 16,
     "metadata": {},
     "output_type": "execute_result"
    }
   ],
   "source": [
    "#on appel le model comme vu que nous ne l'avons pas encore enrigistré sur disque\n",
    "model = Word2Vec(sentences = train, vector_size=vector_size, window=window, min_count=min_count)\n",
    "\n",
    "# Les 50 premiers mots du vocabulaire\n",
    "mots_vocab = model.wv.index_to_key[:50] \n",
    "mots_vocab\n",
    "\n",
    "# Les vecteurs correspondants à nos 50 mosts de notre vocabulaire\n",
    "vec_mots = np.array([model.wv[word] for word in mots_vocab]) \n",
    "vec_mots"
   ]
  },
  {
   "cell_type": "code",
   "execution_count": null,
   "metadata": {},
   "outputs": [
    {
     "data": {
      "text/plain": [
       "array([[-2.221128  , -0.9712258 ],\n",
       "       [ 0.69012374,  0.1552027 ],\n",
       "       [-0.3636427 ,  0.3441337 ],\n",
       "       [ 1.1077173 , -0.1196951 ],\n",
       "       [ 1.4129223 , -0.73687893],\n",
       "       [ 0.36955512,  1.1748065 ],\n",
       "       [-0.66172534,  0.32662806],\n",
       "       [ 1.6015247 , -0.8604842 ],\n",
       "       [-1.2747372 , -0.1477438 ],\n",
       "       [-0.7547195 ,  1.6102716 ],\n",
       "       [ 0.205418  , -0.00917779],\n",
       "       [-0.32468945,  0.25710177],\n",
       "       [ 0.43492082,  1.1557869 ],\n",
       "       [-0.20859185, -0.10368047],\n",
       "       [-0.9813883 , -1.1741409 ],\n",
       "       [-0.7678834 , -0.09757711],\n",
       "       [ 1.8937773 , -0.7412745 ],\n",
       "       [-1.9179641 , -1.2550012 ],\n",
       "       [ 1.5978855 , -0.5969215 ],\n",
       "       [-0.10667443,  0.76605606],\n",
       "       [-1.4410163 , -1.3269991 ],\n",
       "       [ 0.07320354, -0.05540959],\n",
       "       [ 1.1124374 ,  0.2953122 ],\n",
       "       [-0.9256701 ,  1.9392508 ],\n",
       "       [ 0.08362968,  0.14729807],\n",
       "       [-0.09597731,  0.7021361 ],\n",
       "       [-0.274932  ,  0.11728819],\n",
       "       [ 1.6525517 , -0.6354936 ],\n",
       "       [-0.3184135 ,  1.5120564 ],\n",
       "       [-1.4610798 , -1.096841  ],\n",
       "       [ 0.04970831,  0.33350918],\n",
       "       [ 0.2037161 ,  0.838713  ],\n",
       "       [-0.07435539,  1.4792643 ],\n",
       "       [-1.5476428 , -0.00466996],\n",
       "       [ 1.1447068 , -0.63475025],\n",
       "       [ 0.6717858 ,  0.06570756],\n",
       "       [ 0.17542535,  0.51179606],\n",
       "       [ 0.45211935,  0.37764895],\n",
       "       [ 0.8746731 , -0.24964231],\n",
       "       [ 0.6155561 ,  0.09728687],\n",
       "       [-1.8396227 , -0.89288557],\n",
       "       [-1.3962952 , -1.1461754 ],\n",
       "       [ 1.2571993 , -0.41004288],\n",
       "       [ 1.9175031 , -0.90206313],\n",
       "       [ 1.5712849 , -0.6330159 ],\n",
       "       [-1.3507701 ,  0.28169835],\n",
       "       [-0.04489857,  0.39370036],\n",
       "       [-0.19463815,  0.3133713 ],\n",
       "       [-0.79897714, -0.18888204],\n",
       "       [ 0.17808874, -0.20534998]], dtype=float32)"
      ]
     },
     "execution_count": 17,
     "metadata": {},
     "output_type": "execute_result"
    }
   ],
   "source": [
    "#on utilise pca pour réduire la dimension de nos vocabulaire pour pouvoir les vizualizer dans un graphique\n",
    "pca= PCA(n_components=2)\n",
    "# on applique la méthode fit_transform pour réduire la dimension de nos vecteurs\n",
    "vecs_reduits= pca.fit_transform(vec_mots)\n",
    "vecs_reduits"
   ]
  },
  {
   "cell_type": "code",
   "execution_count": 18,
   "metadata": {},
   "outputs": [
    {
     "data": {
      "image/png": "[encoded data removed]",
      "text/plain": [
       "<Figure size 1200x1000 with 1 Axes>"
      ]
     },
     "metadata": {},
     "output_type": "display_data"
    }
   ],
   "source": [
    "#on vizualize les vecs_reduits dans graphique\n",
    "\n",
    "#on utilise la liiste des mots du vocabulaire du modèle comme index pour la DataFrame.\n",
    "df = pd.DataFrame(vecs_reduits, columns=['x', 'y'], index= mots_vocab)\n",
    "\n",
    "# Initialisation de la figure\n",
    "fig, ax = plt.subplots(figsize= (12, 10))\n",
    "\n",
    "# Tracé des points pour les 50 mots\n",
    "df.plot('x', 'y', kind='scatter', ax=ax)\n",
    "\n",
    "# Annoter chaque point avec son mot\n",
    "for word, coord in df.iterrows():\n",
    "    ax.annotate(word, (coord['x'], coord['y']))\n"
   ]
  },
  {
   "cell_type": "markdown",
   "metadata": {},
   "source": [
    "**on sauvegarde le model**"
   ]
  },
  {
   "cell_type": "code",
   "execution_count": 21,
   "metadata": {},
   "outputs": [
    {
     "name": "stdout",
     "output_type": "stream",
     "text": [
      "Word2Vec<vocab=10795, vector_size=100, alpha=0.025>\n"
     ]
    }
   ],
   "source": [
    "model.save(\"data/reviews_en_model.w2v\")\n",
    "print(model)"
   ]
  }
 ],
 "metadata": {
  "kernelspec": {
   "display_name": "Python 3",
   "language": "python",
   "name": "python3"
  },
  "language_info": {
   "codemirror_mode": {
    "name": "ipython",
    "version": 3
   },
   "file_extension": ".py",
   "mimetype": "text/x-python",
   "name": "python",
   "nbconvert_exporter": "python",
   "pygments_lexer": "ipython3",
   "version": "3.9.13"
  }
 },
 "nbformat": 4,
 "nbformat_minor": 2
}
